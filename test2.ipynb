{
 "cells": [
  {
   "cell_type": "code",
   "execution_count": null,
   "metadata": {},
   "outputs": [],
   "source": []
  }
 ],
 "metadata": {
  "kernelspec": {
   "display_name": "py",
   "language": "python",
   "name": "python3"
  },
  "language_info": {
   "name": "python",
   "version": "3.11.0"
  },
  "orig_nbformat": 4,
  "vscode": {
   "interpreter": {
    "hash": "bb25eb23870e1f7947475d70e74bb65d0a7d2cc6ce3b82aea8d578456f08d859"
   }
  }
 },
 "nbformat": 4,
 "nbformat_minor": 2
}
